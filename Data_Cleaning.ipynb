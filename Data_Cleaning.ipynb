{
 "cells": [
  {
   "cell_type": "markdown",
   "id": "f16011a3",
   "metadata": {},
   "source": [
    "Dataset Schema \n",
    "Schema: (ORDERNUMBER, QUANTITYORDERED, PRICEEACH, ORDERLINENUMBER, SALES, ORDERDATE, STATUS, QTR_ID, MONTH_ID, YEAR_ID, ADDRESSLINE1, ADDRESSLINE2, CITY, STATE, POSTALCODE, COUNTRY, TERRITORY, CONTACTLASTNAME, CONTACTFIRSTNAME, DEALSIZE)"
   ]
  },
  {
   "cell_type": "code",
   "execution_count": 7,
   "id": "f305e1bb",
   "metadata": {},
   "outputs": [
    {
     "name": "stdout",
     "output_type": "stream",
     "text": [
      "   ORDERNUMBER  QUANTITYORDERED  PRICEEACH  ORDERLINENUMBER    SALES  \\\n",
      "0        10107               30      95.70                2  2871.00   \n",
      "1        10121               34      81.35                5  2765.90   \n",
      "2        10134               41      94.74                2  3884.34   \n",
      "3        10145               45      83.26                6  3746.70   \n",
      "4        10159               49     100.00               14  5205.27   \n",
      "\n",
      "         ORDERDATE   STATUS  QTR_ID  MONTH_ID  YEAR_ID  ...  \\\n",
      "0   2/24/2003 0:00  Shipped       1         2     2003  ...   \n",
      "1    5/7/2003 0:00  Shipped       2         5     2003  ...   \n",
      "2    7/1/2003 0:00  Shipped       3         7     2003  ...   \n",
      "3   8/25/2003 0:00  Shipped       3         8     2003  ...   \n",
      "4  10/10/2003 0:00  Shipped       4        10     2003  ...   \n",
      "\n",
      "                    ADDRESSLINE1  ADDRESSLINE2           CITY STATE  \\\n",
      "0        897 Long Airport Avenue           NaN            NYC    NY   \n",
      "1             59 rue de l'Abbaye           NaN          Reims   NaN   \n",
      "2  27 rue du Colonel Pierre Avia           NaN          Paris   NaN   \n",
      "3             78934 Hillside Dr.           NaN       Pasadena    CA   \n",
      "4                7734 Strong St.           NaN  San Francisco    CA   \n",
      "\n",
      "  POSTALCODE COUNTRY TERRITORY CONTACTLASTNAME CONTACTFIRSTNAME DEALSIZE  \n",
      "0      10022     USA       NaN              Yu             Kwai    Small  \n",
      "1      51100  France      EMEA         Henriot             Paul    Small  \n",
      "2      75508  France      EMEA        Da Cunha           Daniel   Medium  \n",
      "3      90003     USA       NaN           Young            Julie   Medium  \n",
      "4        NaN     USA       NaN           Brown            Julie   Medium  \n",
      "\n",
      "[5 rows x 25 columns]\n"
     ]
    }
   ],
   "source": [
    "import pandas as pd\n",
    "file_path = 'sales_data_sample.csv'\n",
    "data = pd.read_csv(file_path, encoding='latin1')\n",
    "print(data.head())"
   ]
  },
  {
   "cell_type": "code",
   "execution_count": 8,
   "id": "2d49100e",
   "metadata": {},
   "outputs": [
    {
     "name": "stdout",
     "output_type": "stream",
     "text": [
      "Columns with missing values and their respective counts:\n",
      "ADDRESSLINE2    2521\n",
      "STATE           1486\n",
      "POSTALCODE        76\n",
      "TERRITORY       1074\n",
      "dtype: int64\n"
     ]
    }
   ],
   "source": [
    "# Check for missing values in the dataset\n",
    "missing_values = data.isnull()\n",
    "\n",
    "# Summarize the count of missing values in each column\n",
    "missing_values_count = missing_values.sum()\n",
    "\n",
    "# Display columns with missing values and their counts\n",
    "print(\"Columns with missing values and their respective counts:\")\n",
    "print(missing_values_count[missing_values_count > 0])"
   ]
  },
  {
   "cell_type": "code",
   "execution_count": 10,
   "id": "09b12c5b",
   "metadata": {},
   "outputs": [
    {
     "name": "stdout",
     "output_type": "stream",
     "text": [
      "Columns with missing values and their respective counts after treatment:\n",
      "Series([], dtype: int64)\n"
     ]
    }
   ],
   "source": [
    "# Columns with missing values\n",
    "columns_with_missing = ['ADDRESSLINE2', 'STATE', 'POSTALCODE', 'TERRITORY']\n",
    "\n",
    "# Imputation with the most frequent value\n",
    "for col in columns_with_missing:\n",
    "    most_frequent_value = data[col].mode()[0]\n",
    "    data[col].fillna(most_frequent_value, inplace=True)\n",
    "\n",
    "# Replace 'Unknown' with an appropriate placeholder value if needed\n",
    "data['ADDRESSLINE2'].fillna('Unknown', inplace=True)\n",
    "data['STATE'].fillna('Unknown', inplace=True)\n",
    "data['TERRITORY'].fillna('Unknown', inplace=True)\n",
    "\n",
    "# For 'POSTALCODE', if it's numerical, fill missing values with a specific number or the mean\n",
    "data['POSTALCODE'] = pd.to_numeric(data['POSTALCODE'], errors='coerce')\n",
    "\n",
    "# Fill missing values in 'POSTALCODE' with the mean of numeric values\n",
    "mean_postalcode = data['POSTALCODE'].mean()\n",
    "data['POSTALCODE'].fillna(mean_postalcode, inplace=True)\n",
    "  \n",
    "\n",
    "# Verify the absence of missing values after treatment\n",
    "missing_values_after = data.isnull().sum()\n",
    "print(\"Columns with missing values and their respective counts after treatment:\")\n",
    "print(missing_values_after[missing_values_after > 0])\n"
   ]
  },
  {
   "cell_type": "code",
   "execution_count": 11,
   "id": "8dd28f88",
   "metadata": {},
   "outputs": [],
   "source": [
    "data.to_csv('cleaned_data.csv', index=False)"
   ]
  },
  {
   "cell_type": "code",
   "execution_count": 12,
   "id": "5eceea48",
   "metadata": {},
   "outputs": [
    {
     "name": "stdout",
     "output_type": "stream",
     "text": [
      "Current Working Directory: C:\\Users\\Vedant Merai\n"
     ]
    }
   ],
   "source": [
    "import os\n",
    "print(\"Current Working Directory:\", os.getcwd())"
   ]
  }
 ],
 "metadata": {
  "kernelspec": {
   "display_name": "Python 3 (ipykernel)",
   "language": "python",
   "name": "python3"
  },
  "language_info": {
   "codemirror_mode": {
    "name": "ipython",
    "version": 3
   },
   "file_extension": ".py",
   "mimetype": "text/x-python",
   "name": "python",
   "nbconvert_exporter": "python",
   "pygments_lexer": "ipython3",
   "version": "3.9.7"
  }
 },
 "nbformat": 4,
 "nbformat_minor": 5
}
